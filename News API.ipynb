{
 "cells": [
  {
   "cell_type": "code",
   "execution_count": 24,
   "metadata": {},
   "outputs": [],
   "source": [
    "import requests\n",
    "import webbrowser\n",
    "import pandas as pd\n",
    "import numpy as np\n",
    "from pprint import pprint as print\n",
    "from gensim.summarization import summarize\n",
    "from bs4 import BeautifulSoup\n",
    "import re"
   ]
  },
  {
   "cell_type": "code",
   "execution_count": 2,
   "metadata": {},
   "outputs": [
    {
     "name": "stdout",
     "output_type": "stream",
     "text": [
      "dict_keys(['status', 'totalResults', 'articles'])\n"
     ]
    }
   ],
   "source": [
    "response = requests.get('https://newsapi.org/v2/everything?q=data+analytics&apiKey=a9d83a0dbf0c4e738d588930f64e898d')\n",
    "if response.status_code==200:\n",
    "    data = response.json()\n",
    "    article_list = data['articles']\n",
    "    print(data.keys())"
   ]
  },
  {
   "cell_type": "code",
   "execution_count": 3,
   "metadata": {},
   "outputs": [],
   "source": [
    "word_list = ['sale','buy','$.']\n",
    "blacklist = re.compile('|'.join([re.escape(word) for word in word_list]))\n",
    "article_list = [article for article in article_list if not blacklist.search(article['title'])]"
   ]
  },
  {
   "cell_type": "code",
   "execution_count": 13,
   "metadata": {},
   "outputs": [
    {
     "name": "stdout",
     "output_type": "stream",
     "text": [
      "{'author': 'Rebecca MooreDirector, Google Earth, Earth Engine & Outreach',\n",
      " 'content': 'This week, leaders from cities and environmental organizationsas '\n",
      "            'well as representatives from Googleare gathering at the C40 World '\n",
      "            'Mayors Summit in Copenhagen to raise awareness around new data '\n",
      "            'sources and methodologies that play a critical role in reaching '\n",
      "            'a… [+1683 chars]',\n",
      " 'description': 'This week, leaders from cities and environmental '\n",
      "                'organizations—as well as representatives from Google—are '\n",
      "                'gathering at the C40 World Mayors Summit in Copenhagen to '\n",
      "                'raise awareness around new data sources and methodologies '\n",
      "                'that play a critical role in reaching…',\n",
      " 'publishedAt': '2019-10-10T00:00:00Z',\n",
      " 'source': {'id': None, 'name': 'Blog.google'},\n",
      " 'title': 'Fighting climate change with new data',\n",
      " 'url': 'https://www.blog.google/outreach-initiatives/sustainability/fighting-climate-change-new-data/?utm_source=feedburner&utm_medium=feed&utm_campaign=Feed%3A+blogspot%2FMKuf+%28The+Keyword+%7C+Official+Google+Blog%29',\n",
      " 'urlToImage': 'https://storage.googleapis.com/gweb-uniblog-publish-prod/images/Hero_image_EIE-AirView-Europe-updated.max-1300x1300.png'}\n"
     ]
    }
   ],
   "source": [
    "index = np.random.randint(len(article_list))\n",
    "article = article_list[index]\n",
    "print(article)"
   ]
  },
  {
   "cell_type": "code",
   "execution_count": 43,
   "metadata": {},
   "outputs": [
    {
     "data": {
      "text/plain": [
       "[<p area-label=\"More options menu\" aria-expanded=\"false\" class=\"glue-c-popover__trigger nav-kebab-popover__trigger h-c-header__cta-li-link\" role=\"button\" title=\"More options menu\">\n",
       " <svg class=\"h-c-icon h-c-icon--color-text nav-kebab__icon events-off\" role=\"img\">\n",
       " <use xlink:href=\"#mi-more-vert\"></use>\n",
       " </svg>\n",
       " </p>,\n",
       " <p>This week, leaders from cities and environmental organizations—as well as representatives from Google—are gathering at the <a href=\"https://c40summit2019.org/\">C40 World Mayors Summit</a> in Copenhagen to raise awareness around new data sources and methodologies that play a critical role in reaching a zero-carbon future. </p>,\n",
       " <p>More than 10,000 cities around the world have committed to taking action on climate change over the next decade. But without the right data, it can be hard to know where to start. Our <a href=\"http://insights.sustainability.google/\">Environmental Insights Explorer</a> (EIE) is a free online tool that makes it easier for cities to measure, plan and reduce overall carbon emissions and pollution across their cities. Designed in collaboration with the <a href=\"https://www.globalcovenantofmayors.org/\">Global Covenant of Mayors for Climate &amp; Energy</a> (GCoM), EIE analyzes Google’s comprehensive global mapping data to estimate building and transportation carbon emissions and renewable energy potential. This data can then help build policies, guide solutions and measure progress.<br/></p>,\n",
       " <p>Today EIE will be available for the first time in Europe, starting with Dublin, Birmingham, and the greater metropolitan area of Manchester, with Wolverhampton and Coventry to follow soon. We’re also making available new hyperlocal, street-level air quality data, starting in Copenhagen. This is part of a new section called <a href=\"http://insights.sustainability.google/labs\">EIE Labs</a>, which will pilot climate-focused datasets as a critical indicator for prioritizing and tracking climate action.<br/></p>,\n",
       " <p>In Dublin, city leaders have already been testing the tool, and are using EIE insights to inform smart transit programs with the goal of reducing emissions and increasing the use of cleaner modes of travel. Owen Keegan, Chief Executive, Dublin City Council, says, “Now we can bring Environmental Insights Explorer data analytics to conversations about transportation greenhouse gas emissions and show people the impact of supporting such programs to help start reducing emissions for our entire city which can help inform the debate.\" <br/></p>,\n",
       " <p>Dublin EIE data showing autos as the largest contributing source of CHG transportation emissions.</p>,\n",
       " <p>We’re creating Copenhagen’s new air quality map in partnership with the City of Copenhagen and scientists at Utrecht University, bringing in data from <a href=\"https://www.blog.google/around-the-globe/google-europe/breath-fresh-air-measuring-air-quality-copenhagen/\">Project Air View</a>, which equips Google Street View vehicles with scientific instruments to measure air quality at street level. The preliminary map shows the block-by-block concentration of black carbon and ultrafine particle pollution, which Copenhagen is already using to work with architects and designers to rethink the city for the future.</p>,\n",
       " <p>“Measuring ultrafine particles and black carbon at street level are important steps for the City of Copenhagen to understand how we can prioritise actions to secure a clean and healthy city for our citizens. This new data displays the dynamic levels of ultrafine particles and black carbon with a strong overall relation to traffic patterns, but also hotspots like the narrow streets in our old city centre,” says Rasmus Reeh, senior developer at the Copenhagen Solutions Lab, City of Copenhagen.<br/></p>,\n",
       " <p>Copenhagen’s hyperlocal air quality maps are being used to redesign parts of the city to be healthier and more sustainable.<br/></p>,\n",
       " <p>We’re staying focused on hyperlocal air quality, <a href=\"https://blog.google/products/maps/air-view-ready-expand-more-places-around-globe/\">enabling 50 more Street View cars</a> to capture air quality measurements on roads around the globe. We hope these insights will inspire cities to transform their own transport vehicle fleets into environmental sensing platforms—the <a href=\"https://www.edf.org/cleanairguide\">Environmental Defense Fund’s Clean Air Guide</a> provides some tips on getting started—and contribute to the <a href=\"http://aqdatacommons.org\">Air Quality Data Commons</a> platform, which supports new insights, deeper research and more effective climate action. </p>,\n",
       " <p>We are encouraged by the positive response of cities and city partners, including GCOM, whose Executive Director, Amanda Eichel, says “we believe EIE can serve as a critical first step for city sustainability teams to better assess their current situation and more efficiently track and monitor their progress in meeting their climate protection goals.”<br/></p>,\n",
       " <p>We’re already working hard to bringing EIE to many more cities around the world, and we’re excited about helping more mayors create a healthier, cleaner future for their citizens and for the planet. If you’d like to nominate your city as the next candidate for EIE, <a href=\"https://docs.google.com/forms/d/e/1FAIpQLSc6XnNa8I1Y7uA6DqpAViF7isfqBnwo-B7ABpiCcbog3ZumXg/viewform\">let us know</a>. <br/></p>,\n",
       " <p class=\"h-c-social__title h-c-social__title--inline\">\n",
       "               Follow Us\n",
       "             </p>]"
      ]
     },
     "execution_count": 43,
     "metadata": {},
     "output_type": "execute_result"
    }
   ],
   "source": [
    "page = requests.get(article['url']).text;\n",
    "soup = BeautifulSoup(page);\n",
    "tags = soup.find_all('p');\n",
    "tags"
   ]
  },
  {
   "cell_type": "code",
   "execution_count": 53,
   "metadata": {},
   "outputs": [
    {
     "data": {
      "text/plain": [
       "b' This week, leaders from cities and environmental organizationsas well as representatives from Googleare gathering at the C40 World Mayors Summit in Copenhagen to raise awareness around new data sources and methodologies that play a critical role in reaching a zero-carbon future. More than 10,000 cities around the world have committed to taking action on climate change over the next decade. But without the right data, it can be hard to know where to start. Our Environmental Insights Explorer (EIE) is a free online tool that makes it easier for cities to measure, plan and reduce overall carbon emissions and pollution across their cities. Designed in collaboration with the Global Covenant of Mayors for Climate & Energy (GCoM), EIE analyzes Googles comprehensive global mapping data to estimate building and transportation carbon emissions and renewable energy potential. This data can then help build policies, guide solutions and measure progress. Today EIE will be available for the first time in Europe, starting with Dublin, Birmingham, and the greater metropolitan area of Manchester, with Wolverhampton and Coventry to follow soon. Were also making available new hyperlocal, street-level air quality data, starting in Copenhagen. This is part of a new section called EIE Labs, which will pilot climate-focused datasets as a critical indicator for prioritizing and tracking climate action. In Dublin, city leaders have already been testing the tool, and are using EIE insights to inform smart transit programs with the goal of reducing emissions and increasing the use of cleaner modes of travel. Owen Keegan, Chief Executive, Dublin City Council, says, Now we can bring Environmental Insights Explorer data analytics to conversations about transportation greenhouse gas emissions and show people the impact of supporting such programs to help start reducing emissions for our entire city which can help inform the debate.\" Dublin EIE data showing autos as the largest contributing source of CHG transportation emissions. Were creating Copenhagens new air quality map in partnership with the City of Copenhagen and scientists at Utrecht University, bringing in data from Project Air View, which equips Google Street View vehicles with scientific instruments to measure air quality at street level. The preliminary map shows the block-by-block concentration of black carbon and ultrafine particle pollution, which Copenhagen is already using to work with architects and designers to rethink the city for the future. Measuring ultrafine particles and black carbon at street level are important steps for the City of Copenhagen to understand how we can prioritise actions to secure a clean and healthy city for our citizens. This new data displays the dynamic levels of ultrafine particles and black carbon with a strong overall relation to traffic patterns, but also hotspots like the narrow streets in our old city centre, says Rasmus Reeh, senior developer at the Copenhagen Solutions Lab, City of Copenhagen. Copenhagens hyperlocal air quality maps are being used to redesign parts of the city to be healthier and more sustainable. Were staying focused on hyperlocal air quality, enabling 50 more Street View cars to capture air quality measurements on roads around the globe. We hope these insights will inspire cities to transform their own transport vehicle fleets into environmental sensing platformsthe Environmental Defense Funds Clean Air Guide provides some tips on getting startedand contribute to the Air Quality Data Commons platform, which supports new insights, deeper research and more effective climate action. We are encouraged by the positive response of cities and city partners, including GCOM, whose Executive Director, Amanda Eichel, says we believe EIE can serve as a critical first step for city sustainability teams to better assess their current situation and more efficiently track and monitor their progress in meeting their climate protection goals. Were already working hard to bringing EIE to many more cities around the world, and were excited about helping more mayors create a healthier, cleaner future for their citizens and for the planet. If youd like to nominate your city as the next candidate for EIE, let us know. Follow Us'"
      ]
     },
     "execution_count": 53,
     "metadata": {},
     "output_type": "execute_result"
    }
   ],
   "source": [
    "text_list = [tag.get_text().strip() for tag in tags];\n",
    "article_text = \" \".join(text_list);\n",
    "article_text.encode('ascii','ignore')"
   ]
  },
  {
   "cell_type": "code",
   "execution_count": 57,
   "metadata": {},
   "outputs": [
    {
     "name": "stdout",
     "output_type": "stream",
     "text": [
      "'https://www.blog.google/outreach-initiatives/sustainability/fighting-climate-change-new-data/?utm_source=feedburner&utm_medium=feed&utm_campaign=Feed%3A+blogspot%2FMKuf+%28The+Keyword+%7C+Official+Google+Blog%29'\n"
     ]
    },
    {
     "data": {
      "text/plain": [
       "'This week, leaders from cities and environmental organizations—as well as representatives from Google—are gathering at the C40 World Mayors Summit in Copenhagen to raise awareness around new data sources and methodologies that play a critical role in reaching a zero-carbon future.\\nOur Environmental Insights Explorer (EIE) is a free online tool that makes it easier for cities to measure, plan and reduce overall carbon emissions and pollution across their cities.\\nWe’re also making available new hyperlocal, street-level air quality data, starting in Copenhagen.\\nWe’re creating Copenhagen’s new air quality map in partnership with the City of Copenhagen and scientists at Utrecht University, bringing in data from Project Air View, which equips Google Street View vehicles with scientific instruments to measure air quality at street level.'"
      ]
     },
     "execution_count": 57,
     "metadata": {},
     "output_type": "execute_result"
    }
   ],
   "source": [
    "summary = summarize(article_text, ratio=0.2);\n",
    "print(article['url'])\n",
    "summary"
   ]
  },
  {
   "cell_type": "code",
   "execution_count": 14,
   "metadata": {},
   "outputs": [
    {
     "data": {
      "text/plain": [
       "True"
      ]
     },
     "execution_count": 14,
     "metadata": {},
     "output_type": "execute_result"
    }
   ],
   "source": [
    "webbrowser.open(article['url'])"
   ]
  }
 ],
 "metadata": {
  "kernelspec": {
   "display_name": "Python 3",
   "language": "python",
   "name": "python3"
  },
  "language_info": {
   "codemirror_mode": {
    "name": "ipython",
    "version": 3
   },
   "file_extension": ".py",
   "mimetype": "text/x-python",
   "name": "python",
   "nbconvert_exporter": "python",
   "pygments_lexer": "ipython3",
   "version": "3.6.8"
  }
 },
 "nbformat": 4,
 "nbformat_minor": 2
}
